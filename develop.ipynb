{
 "cells": [
  {
   "cell_type": "code",
   "execution_count": 51,
   "id": "15e449ba",
   "metadata": {},
   "outputs": [],
   "source": [
    "import torchsummary\n",
    "import loader\n",
    "import research_models\n",
    "from importlib import reload\n",
    "import wandb\n",
    "wandb.login()"
   ]
  },
  {
   "cell_type": "code",
   "execution_count": 124,
   "id": "2602cdb2",
   "metadata": {},
   "outputs": [],
   "source": [
    "test = loader.TinyImageNet200()\n",
    "test.prepare(split=loader.VALID)\n",
    "x = next(iter(test.dataloader(batch_size=1000)))\n",
    "step  = 1"
   ]
  },
  {
   "cell_type": "code",
   "execution_count": 112,
   "id": "9d4ab00a",
   "metadata": {},
   "outputs": [
    {
     "name": "stdout",
     "output_type": "stream",
     "text": [
      "{'conv_kernel_size': 2, 'pool_kernel_size': 2, 'pool_stride': 2, 'linear_output': 2048}\n",
      "torch.Size([1000])\n",
      "{'conv_kernel_size': 2, 'pool_kernel_size': 3, 'pool_stride': 2, 'linear_output': 1152}\n",
      "torch.Size([1000])\n",
      "{'conv_kernel_size': 3, 'pool_kernel_size': 2, 'pool_stride': 2, 'linear_output': 2048}\n",
      "torch.Size([1000])\n",
      "{'conv_kernel_size': 3, 'pool_kernel_size': 3, 'pool_stride': 2, 'linear_output': 1152}\n",
      "torch.Size([1000])\n"
     ]
    }
   ],
   "source": [
    "for conv_kernel_size in [2, 3]:\n",
    "    for pool_kernel_size in [2, 3]:\n",
    "        for pool_stride in [2, 3]:\n",
    "            config = {}\n",
    "            config['conv_kernel_size'] = conv_kernel_size\n",
    "            config['pool_kernel_size'] = pool_kernel_size\n",
    "            config['pool_stride'] = pool_stride\n",
    "            config['linear_output'] = get_linear_output_dict(**config)\n",
    "            print(config)\n",
    "            y = research_models.ResidualNet(**config)(x).argmax(1)\n",
    "            print(y.shape)"
   ]
  },
  {
   "cell_type": "code",
   "execution_count": 144,
   "id": "6aebf919",
   "metadata": {},
   "outputs": [
    {
     "name": "stdout",
     "output_type": "stream",
     "text": [
      "torch.Size([1000]) (1000,)\n",
      "torch.Size([1000]) (1000,)\n",
      "torch.Size([1000]) (1000,)\n",
      "torch.Size([1000]) (1000,)\n",
      "torch.Size([1000]) (1000,)\n",
      "torch.Size([1000]) (1000,)\n",
      "torch.Size([1000]) (1000,)\n",
      "torch.Size([1000]) (1000,)\n",
      "torch.Size([1000]) (1000,)\n",
      "torch.Size([1000]) (1000,)\n"
     ]
    }
   ],
   "source": [
    "# wandb.init(project='test', entity='adnanhd', name='bar')\n",
    "config = {'conv_kernel_size': 2, 'pool_kernel_size': 2, 'pool_stride': 2, 'linear_output': 2048}\n",
    "model = research_models.ResidualNet(**config)\n",
    "\n",
    "for x, y_true in test.dataloader(batch_size=1000):\n",
    "    step += 1\n",
    "    wandb.define_metric('test_step')\n",
    "    wandb.define_metric('test/accuracy', step_metric='test_step')\n",
    "    y_pred = model(x).detach().numpy().argmax(1)\n",
    "    cm = wandb.plot.confusion_matrix(y_true=y_true.numpy(), preds=y_pred, class_names=[str(i) for i in range(200)])\n",
    "    wandb.log({'conf_mat': cm})"
   ]
  },
  {
   "cell_type": "code",
   "execution_count": null,
   "id": "8b351dd8",
   "metadata": {},
   "outputs": [],
   "source": []
  },
  {
   "cell_type": "code",
   "execution_count": 100,
   "id": "7bd62a93",
   "metadata": {},
   "outputs": [],
   "source": [
    "linear_output_dict = {}\n",
    "def get_linear_output_dict(conv_kernel_size=3, pool_kernel_size=3, pool_stride=3, **kwargs):\n",
    "    try:\n",
    "        return linear_output_dict[(conv_kernel_size, pool_kernel_size, pool_stride)]\n",
    "    except KeyError:\n",
    "        return 2048\n",
    "\n",
    "def set_linear_output_dict(linear_output, conv_kernel_size=3, pool_kernel_size=3, pool_stride=3):\n",
    "    linear_output_dict[(conv_kernel_size, pool_kernel_size, pool_stride)] = linear_output\n",
    "    \n",
    "\n",
    "\n",
    "experiments = [\n",
    "    dict(pool='avg', batch_norm=False, conv_kernel_size=3, pool_kernel_size=3, pool_stride=3, linear_output=128),\n",
    "    dict(pool='avg', batch_norm=False, conv_kernel_size=3, pool_kernel_size=2, pool_stride=2, linear_output=2048),\n",
    "    dict(pool='avg', batch_norm=False, conv_kernel_size=2, pool_kernel_size=3, pool_stride=3, linear_output=512),\n",
    "    dict(pool='avg', batch_norm=False, conv_kernel_size=2, pool_kernel_size=2, pool_stride=2, linear_output=2048),\n",
    "    dict(pool='max', batch_norm=False, conv_kernel_size=3, pool_kernel_size=3, pool_stride=3, linear_output=128),\n",
    "    dict(pool='max', batch_norm=False, conv_kernel_size=3, pool_kernel_size=2, pool_stride=2, linear_output=2048),\n",
    "    dict(pool='max', batch_norm=False, conv_kernel_size=2, pool_kernel_size=3, pool_stride=3, linear_output=512),\n",
    "    dict(pool='max', batch_norm=False, conv_kernel_size=2, pool_kernel_size=2, pool_stride=2, linear_output=2048),\n",
    "    \n",
    "    dict(pool='avg', residual=True, conv_kernel_size=3, pool_kernel_size=3, pool_stride=3, linear_output=128),\n",
    "    dict(pool='avg', residual=True, conv_kernel_size=3, pool_kernel_size=2, pool_stride=2, linear_output=2048),\n",
    "    dict(pool='avg', residual=True, conv_kernel_size=2, pool_kernel_size=3, pool_stride=3, linear_output=512),\n",
    "    dict(pool='avg', residual=True, conv_kernel_size=2, pool_kernel_size=2, pool_stride=2, linear_output=2048),\n",
    "    dict(pool='max', residual=True, conv_kernel_size=3, pool_kernel_size=3, pool_stride=3, linear_output=128),\n",
    "    dict(pool='max', residual=True, conv_kernel_size=3, pool_kernel_size=2, pool_stride=2, linear_output=2048),\n",
    "    dict(pool='max', residual=True, conv_kernel_size=2, pool_kernel_size=3, pool_stride=3, linear_output=512),\n",
    "    dict(pool='max', residual=True, conv_kernel_size=2, pool_kernel_size=2, pool_stride=2, linear_output=2048),\n",
    "    \n",
    "    dict(pool='avg', batch_norm=False, conv_kernel_size=3, pool_kernel_size=3, pool_stride=3, linear_output=128),\n",
    "    dict(pool='avg', batch_norm=False, conv_kernel_size=3, pool_kernel_size=2, pool_stride=2, linear_output=2048),\n",
    "    dict(pool='avg', batch_norm=False, conv_kernel_size=2, pool_kernel_size=3, pool_stride=3, linear_output=512),\n",
    "    dict(pool='avg', batch_norm=False, conv_kernel_size=2, pool_kernel_size=2, pool_stride=2, linear_output=2048),\n",
    "    dict(pool='max', batch_norm=False, conv_kernel_size=3, pool_kernel_size=3, pool_stride=3, linear_output=128),\n",
    "    dict(pool='max', batch_norm=False, conv_kernel_size=3, pool_kernel_size=2, pool_stride=2, linear_output=2048),\n",
    "    dict(pool='max', batch_norm=False, conv_kernel_size=2, pool_kernel_size=3, pool_stride=3, linear_output=512),\n",
    "    dict(pool='max', batch_norm=False, conv_kernel_size=2, pool_kernel_size=2, pool_stride=2, linear_output=2048),\n",
    "    \n",
    "    dict(pool='avg', batch_norm=True, conv_kernel_size=3, pool_kernel_size=3, pool_stride=3, linear_output=128),\n",
    "    dict(pool='avg', batch_norm=True, conv_kernel_size=3, pool_kernel_size=2, pool_stride=2, linear_output=2048),\n",
    "    dict(pool='avg', batch_norm=True, conv_kernel_size=2, pool_kernel_size=3, pool_stride=3, linear_output=512),\n",
    "    dict(pool='avg', batch_norm=True, conv_kernel_size=2, pool_kernel_size=2, pool_stride=2, linear_output=2048),\n",
    "    dict(pool='max', batch_norm=True, conv_kernel_size=3, pool_kernel_size=3, pool_stride=3, linear_output=128),\n",
    "    dict(pool='max', batch_norm=True, conv_kernel_size=3, pool_kernel_size=2, pool_stride=2, linear_output=2048),\n",
    "    dict(pool='max', batch_norm=True, conv_kernel_size=2, pool_kernel_size=3, pool_stride=3, linear_output=512),\n",
    "    dict(pool='max', batch_norm=True, conv_kernel_size=2, pool_kernel_size=2, pool_stride=2, linear_output=2048),\n",
    "]"
   ]
  }
 ],
 "metadata": {
  "kernelspec": {
   "display_name": "Python 3 (ipykernel)",
   "language": "python",
   "name": "python3"
  },
  "language_info": {
   "codemirror_mode": {
    "name": "ipython",
    "version": 3
   },
   "file_extension": ".py",
   "mimetype": "text/x-python",
   "name": "python",
   "nbconvert_exporter": "python",
   "pygments_lexer": "ipython3",
   "version": "3.8.0"
  }
 },
 "nbformat": 4,
 "nbformat_minor": 5
}
